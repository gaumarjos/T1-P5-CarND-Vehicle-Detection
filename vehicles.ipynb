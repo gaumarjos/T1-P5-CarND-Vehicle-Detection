{
 "cells": [
  {
   "cell_type": "code",
   "execution_count": null,
   "metadata": {
    "collapsed": true
   },
   "outputs": [],
   "source": [
    "import numpy as np\n",
    "import cv2\n",
    "import glob\n",
    "import time\n",
    "import pickle\n",
    "from collections import deque\n",
    "import matplotlib.image as mpimg\n",
    "import matplotlib.pyplot as plt\n",
    "%matplotlib inline\n",
    "\n",
    "from skimage.feature import hog\n",
    "from sklearn.svm import LinearSVC\n",
    "from sklearn.svm import SVC\n",
    "from sklearn.preprocessing import StandardScaler\n",
    "from sklearn.utils import shuffle\n",
    "# from sklearn.cross_validation import train_test_split  # for scikit-learn version <= 0.17\n",
    "from sklearn.model_selection import train_test_split  # if you are using scikit-learn >= 0.18\n",
    "from scipy.ndimage.measurements import label\n",
    "from moviepy.editor import VideoFileClip\n",
    "\n",
    "from includes.car_classification import *\n",
    "from includes.car_detection import *\n",
    "from includes.lanes_camera_calibration import *\n",
    "from includes.lanes_detection import *"
   ]
  },
  {
   "cell_type": "markdown",
   "metadata": {},
   "source": [
    "## Camera calibration"
   ]
  },
  {
   "cell_type": "code",
   "execution_count": null,
   "metadata": {},
   "outputs": [],
   "source": [
    "filename = 'test_images/test1.jpg'\n",
    "img = cv2.imread(filename)\n",
    "img = cv2.cvtColor(img, cv2.COLOR_BGR2RGB)\n",
    "img_size = (img.shape[1], img.shape[0])\n",
    "\n",
    "mtx, dist = camera_calibration(img_size)"
   ]
  },
  {
   "cell_type": "markdown",
   "metadata": {},
   "source": [
    "## Classifier"
   ]
  },
  {
   "cell_type": "code",
   "execution_count": null,
   "metadata": {
    "collapsed": true
   },
   "outputs": [],
   "source": [
    "cars = glob.glob('car_classification_datasets/vehicles/**/*.png', recursive=True)\n",
    "notcars = glob.glob('car_classification_datasets/non-vehicles/**/*.png', recursive=True)\n",
    "print('Car images: {}'.format(len(cars)))\n",
    "print('Non-car images: {}'.format(len(notcars)))\n",
    "\n",
    "# sample_size = 100\n",
    "sample_size = None\n",
    "if sample_size is not None:\n",
    "    cars = cars[0:sample_size]\n",
    "    notcars = notcars[0:sample_size]\n",
    "    \n",
    "## Feature parameters\n",
    "parameters = {'colorspace': 'YCrCb',            # Can be RGB, HSV, LUV, HLS, YUV, YCrCb\n",
    "              'hog_channel': 'ALL',             # Can be 0, 1, 2, or \"ALL\"\n",
    "              'hog_orient': 9,                  # HOG possible orientations    9 11\n",
    "              'hog_pix_per_cell': 8,            # HOG number of px per cell    8 16\n",
    "              'hog_cell_per_block': 2,          # HOG number of cells per block\n",
    "              'spatial_size': (32, 32),         # Spatial binning dimensions\n",
    "              'histogram_bins': 32}             # Number of histogram bins\n",
    "\n",
    "if 0:\n",
    "    # Extract features for writeup\n",
    "    extract_features_from_image_list(cars[100:106], show_intermediate=True)\n",
    "\n",
    "if 1:\n",
    "    train_classifier(cars, notcars, parameters, \"model_linearsvc_9_8\")"
   ]
  },
  {
   "cell_type": "markdown",
   "metadata": {
    "collapsed": true
   },
   "source": [
    "## Detect cars in camera image"
   ]
  },
  {
   "cell_type": "code",
   "execution_count": null,
   "metadata": {},
   "outputs": [],
   "source": [
    "# Load classifier and scaler\n",
    "model = pickle.load(open(\"models/model_linearsvc_9_8.p\", \"rb\"))\n",
    "svc = model[\"model\"]\n",
    "scaler = model[\"scaler\"]\n",
    "colorspace = model[\"colorspace\"]\n",
    "hog_channel = model[\"hog_channel\"]\n",
    "hog_orient = model[\"hog_orient\"]\n",
    "hog_pix_per_cell = model[\"hog_pix_per_cell\"]\n",
    "hog_cell_per_block = model[\"hog_cell_per_block\"]\n",
    "spatial_size = model[\"spatial_size\"]\n",
    "histogram_bins = model[\"histogram_bins\"]\n",
    "\n",
    "\n",
    "# Read camera image(s)\n",
    "test_files = glob.glob('test_images/*.jpg')\n",
    "# test_files = ['test_images/test3.jpg']\n",
    "\n",
    "\n",
    "# Process files\n",
    "for file in test_files:\n",
    "    \n",
    "    # Load image\n",
    "    image = mpimg.imread(file)\n",
    "    \n",
    "    # Initialize detector\n",
    "    detector = VehicleDetector(classifier=svc,\n",
    "                               scaler=scaler,\n",
    "                               colorspace=colorspace,\n",
    "                               hog_channel=hog_channel,\n",
    "                               hog_orient=hog_orient,\n",
    "                               hog_pix_per_cell=hog_pix_per_cell,\n",
    "                               hog_cell_per_block=hog_cell_per_block,\n",
    "                               spatial_size=spatial_size,\n",
    "                               histogram_bins=histogram_bins,\n",
    "                               show_intermediate_results=True)\n",
    "    \n",
    "    # Run search\n",
    "    t0 = time.time()\n",
    "    labelled_img = detector.search_in_image(image)\n",
    "    t_detection = time.time() - t0\n",
    "    print(\"Time for detection: {:6.4f}s\".format(t_detection))"
   ]
  },
  {
   "cell_type": "markdown",
   "metadata": {},
   "source": [
    "## Detect cars in video"
   ]
  },
  {
   "cell_type": "code",
   "execution_count": null,
   "metadata": {},
   "outputs": [],
   "source": [
    "# Load classifier and scaler\n",
    "model = pickle.load(open(\"models/model_linearsvc_9_8.p\", \"rb\"))\n",
    "svc = model[\"model\"]\n",
    "scaler = model[\"scaler\"]\n",
    "colorspace = model[\"colorspace\"]\n",
    "hog_channel = model[\"hog_channel\"]\n",
    "hog_orient = model[\"hog_orient\"]\n",
    "hog_pix_per_cell = model[\"hog_pix_per_cell\"]\n",
    "hog_cell_per_block = model[\"hog_cell_per_block\"]\n",
    "spatial_size = model[\"spatial_size\"]\n",
    "histogram_bins = model[\"histogram_bins\"]\n",
    "\n",
    "\n",
    "# Load video\n",
    "filename = \"videos/test_video.mp4\"\n",
    "# filename = \"videos/project_video.mp4\"\n",
    "clip = VideoFileClip(filename)\n",
    "white_output = filename[:-4] + '_output.mp4'\n",
    "\n",
    "\n",
    "# Initialize detector\n",
    "detector = VehicleDetector(classifier=svc,\n",
    "                           scaler=scaler,\n",
    "                           colorspace=colorspace,\n",
    "                           hog_channel=hog_channel,\n",
    "                           hog_orient=hog_orient,\n",
    "                           hog_pix_per_cell=hog_pix_per_cell,\n",
    "                           hog_cell_per_block=hog_cell_per_block,\n",
    "                           spatial_size=spatial_size,\n",
    "                           histogram_bins=histogram_bins,\n",
    "                           show_intermediate_results=False)\n",
    "\n",
    "\n",
    "# Process video\n",
    "white_clip = clip.fl_image(detector.search_in_image)\n",
    "#white_clip = clip.fl_image(detector.search_in_image).subclip(4, 10)\n",
    "#white_clip = clip.fl_image(detector.search_in_image).subclip(19, 27)\n",
    "#white_clip = clip.fl_image(detector.search_in_image).subclip(45, 47)\n",
    "\n",
    "%time white_clip.write_videofile(white_output, audio=False)"
   ]
  }
 ],
 "metadata": {
  "kernelspec": {
   "display_name": "Python 3",
   "language": "python",
   "name": "python3"
  },
  "language_info": {
   "codemirror_mode": {
    "name": "ipython",
    "version": 3
   },
   "file_extension": ".py",
   "mimetype": "text/x-python",
   "name": "python",
   "nbconvert_exporter": "python",
   "pygments_lexer": "ipython3",
   "version": "3.5.2"
  },
  "widgets": {
   "state": {},
   "version": "1.1.2"
  }
 },
 "nbformat": 4,
 "nbformat_minor": 2
}
